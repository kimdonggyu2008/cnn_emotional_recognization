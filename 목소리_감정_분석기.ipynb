{
  "cells": [
    {
      "cell_type": "markdown",
      "metadata": {
        "id": "view-in-github",
        "colab_type": "text"
      },
      "source": [
        "<a href=\"https://colab.research.google.com/github/kimdonggyu2008/cnn_emotional_recognization/blob/main/%EB%AA%A9%EC%86%8C%EB%A6%AC_%EA%B0%90%EC%A0%95_%EB%B6%84%EC%84%9D%EA%B8%B0.ipynb\" target=\"_parent\"><img src=\"https://colab.research.google.com/assets/colab-badge.svg\" alt=\"Open In Colab\"/></a>"
      ]
    },
    {
      "cell_type": "code",
      "execution_count": null,
      "metadata": {
        "colab": {
          "base_uri": "https://localhost:8080/"
        },
        "id": "xDC_i7kjI7ia",
        "outputId": "377b51e4-9778-4b38-e388-c75b1984c1f2"
      },
      "outputs": [
        {
          "output_type": "stream",
          "name": "stdout",
          "text": [
            "Requirement already satisfied: matplotlib in /usr/local/lib/python3.10/dist-packages (3.7.1)\n",
            "Requirement already satisfied: librosa in /usr/local/lib/python3.10/dist-packages (0.10.1)\n",
            "Requirement already satisfied: contourpy>=1.0.1 in /usr/local/lib/python3.10/dist-packages (from matplotlib) (1.2.0)\n",
            "Requirement already satisfied: cycler>=0.10 in /usr/local/lib/python3.10/dist-packages (from matplotlib) (0.12.1)\n",
            "Requirement already satisfied: fonttools>=4.22.0 in /usr/local/lib/python3.10/dist-packages (from matplotlib) (4.46.0)\n",
            "Requirement already satisfied: kiwisolver>=1.0.1 in /usr/local/lib/python3.10/dist-packages (from matplotlib) (1.4.5)\n",
            "Requirement already satisfied: numpy>=1.20 in /usr/local/lib/python3.10/dist-packages (from matplotlib) (1.23.5)\n",
            "Requirement already satisfied: packaging>=20.0 in /usr/local/lib/python3.10/dist-packages (from matplotlib) (23.2)\n",
            "Requirement already satisfied: pillow>=6.2.0 in /usr/local/lib/python3.10/dist-packages (from matplotlib) (9.4.0)\n",
            "Requirement already satisfied: pyparsing>=2.3.1 in /usr/local/lib/python3.10/dist-packages (from matplotlib) (3.1.1)\n",
            "Requirement already satisfied: python-dateutil>=2.7 in /usr/local/lib/python3.10/dist-packages (from matplotlib) (2.8.2)\n",
            "Requirement already satisfied: audioread>=2.1.9 in /usr/local/lib/python3.10/dist-packages (from librosa) (3.0.1)\n",
            "Requirement already satisfied: scipy>=1.2.0 in /usr/local/lib/python3.10/dist-packages (from librosa) (1.11.4)\n",
            "Requirement already satisfied: scikit-learn>=0.20.0 in /usr/local/lib/python3.10/dist-packages (from librosa) (1.2.2)\n",
            "Requirement already satisfied: joblib>=0.14 in /usr/local/lib/python3.10/dist-packages (from librosa) (1.3.2)\n",
            "Requirement already satisfied: decorator>=4.3.0 in /usr/local/lib/python3.10/dist-packages (from librosa) (4.4.2)\n",
            "Requirement already satisfied: numba>=0.51.0 in /usr/local/lib/python3.10/dist-packages (from librosa) (0.58.1)\n",
            "Requirement already satisfied: soundfile>=0.12.1 in /usr/local/lib/python3.10/dist-packages (from librosa) (0.12.1)\n",
            "Requirement already satisfied: pooch>=1.0 in /usr/local/lib/python3.10/dist-packages (from librosa) (1.8.0)\n",
            "Requirement already satisfied: soxr>=0.3.2 in /usr/local/lib/python3.10/dist-packages (from librosa) (0.3.7)\n",
            "Requirement already satisfied: typing-extensions>=4.1.1 in /usr/local/lib/python3.10/dist-packages (from librosa) (4.5.0)\n",
            "Requirement already satisfied: lazy-loader>=0.1 in /usr/local/lib/python3.10/dist-packages (from librosa) (0.3)\n",
            "Requirement already satisfied: msgpack>=1.0 in /usr/local/lib/python3.10/dist-packages (from librosa) (1.0.7)\n",
            "Requirement already satisfied: llvmlite<0.42,>=0.41.0dev0 in /usr/local/lib/python3.10/dist-packages (from numba>=0.51.0->librosa) (0.41.1)\n",
            "Requirement already satisfied: platformdirs>=2.5.0 in /usr/local/lib/python3.10/dist-packages (from pooch>=1.0->librosa) (4.1.0)\n",
            "Requirement already satisfied: requests>=2.19.0 in /usr/local/lib/python3.10/dist-packages (from pooch>=1.0->librosa) (2.31.0)\n",
            "Requirement already satisfied: six>=1.5 in /usr/local/lib/python3.10/dist-packages (from python-dateutil>=2.7->matplotlib) (1.16.0)\n",
            "Requirement already satisfied: threadpoolctl>=2.0.0 in /usr/local/lib/python3.10/dist-packages (from scikit-learn>=0.20.0->librosa) (3.2.0)\n",
            "Requirement already satisfied: cffi>=1.0 in /usr/local/lib/python3.10/dist-packages (from soundfile>=0.12.1->librosa) (1.16.0)\n",
            "Requirement already satisfied: pycparser in /usr/local/lib/python3.10/dist-packages (from cffi>=1.0->soundfile>=0.12.1->librosa) (2.21)\n",
            "Requirement already satisfied: charset-normalizer<4,>=2 in /usr/local/lib/python3.10/dist-packages (from requests>=2.19.0->pooch>=1.0->librosa) (3.3.2)\n",
            "Requirement already satisfied: idna<4,>=2.5 in /usr/local/lib/python3.10/dist-packages (from requests>=2.19.0->pooch>=1.0->librosa) (3.6)\n",
            "Requirement already satisfied: urllib3<3,>=1.21.1 in /usr/local/lib/python3.10/dist-packages (from requests>=2.19.0->pooch>=1.0->librosa) (2.0.7)\n",
            "Requirement already satisfied: certifi>=2017.4.17 in /usr/local/lib/python3.10/dist-packages (from requests>=2.19.0->pooch>=1.0->librosa) (2023.11.17)\n"
          ]
        }
      ],
      "source": [
        "pip install matplotlib librosa"
      ]
    },
    {
      "cell_type": "code",
      "execution_count": null,
      "metadata": {
        "id": "DgnK3WSGg0Ei"
      },
      "outputs": [],
      "source": [
        "import pandas as pd\n",
        "import numpy as np\n",
        "\n",
        "import os\n",
        "import sys\n",
        "\n",
        "import librosa#웨이브파일 관련 라이브러리\n",
        "import librosa.display\n",
        "import seaborn as sns\n",
        "import matplotlib.pyplot as plt\n",
        "\n",
        "from sklearn.preprocessing import StandardScaler, OneHotEncoder\n",
        "from sklearn.metrics import confusion_matrix, classification_report\n",
        "from sklearn.model_selection import train_test_split#지표 관련 라이브러리\n",
        "\n",
        "from IPython.display import Audio #라이브러리 시각화\n",
        "\n",
        "from tensorflow.python.keras.utils import np_utils\n",
        "import keras\n",
        "from keras.callbacks import ReduceLROnPlateau\n",
        "from keras.models import Sequential\n",
        "from keras.layers import Dense, Conv1D, MaxPooling1D, Flatten, Dropout, BatchNormalization\n",
        "from keras.callbacks import ModelCheckpoint\n",
        "\n",
        "\n",
        "import warnings\n",
        "if not sys.warnoptions:\n",
        "  warnings.simplefilter(\"ignore\")\n",
        "warnings.filterwarnings(\"ignore\",category=DeprecationWarning)"
      ]
    },
    {
      "cell_type": "markdown",
      "metadata": {
        "id": "qEyDWlkpg0wW"
      },
      "source": [
        "ravness\n"
      ]
    },
    {
      "cell_type": "markdown",
      "metadata": {
        "id": "HNo6JmNDqQA9"
      },
      "source": [
        "예시 데이터의 구분방법\n",
        "\n",
        "데이터 유형 - 말? 노래? - 어떤 감정? - 감정 세기 - 어떤 대사? - 반복 횟수 - 성우\n",
        "1. Ravdess Dataframe\n",
        "Here is the filename identifiers as per the official RAVDESS website:\n",
        "\n",
        "Modality (01 = full-AV, 02 = video-only, 03 = audio-only).\n",
        "\n",
        "Vocal channel (01 = speech, 02 = song).\n",
        "\n",
        "Emotion (01 = neutral, 02 = calm, 03 = happy, 04 = sad, 05 = angry, 06 = fearful, 07 = disgust, 08 = surprised).\n",
        "\n",
        "Emotional intensity (01 = normal, 02 = strong). NOTE: There is no strong intensity for the 'neutral' emotion.\n",
        "\n",
        "Statement (01 = \"Kids are talking by the door\", 02 = \"Dogs are sitting by the door\").\n",
        "\n",
        "Repetition (01 = 1st repetition, 02 = 2nd repetition).\n",
        "\n",
        "Actor (01 to 24. Odd numbered actors are male, even numbered actors are female).\n",
        "\n",
        "So, here's an example of an audio filename. 02-01-06-01-02-01-12.mp4 This means the meta data for the audio file is:\n",
        "\n",
        "Video-only (02)\n",
        "Speech (01)\n",
        "Fearful (06)\n",
        "Normal intensity (01)\n",
        "Statement \"dogs\" (02)\n",
        "1st Repetition (01)\n",
        "12th Actor (12) - Female (as the actor ID number is even)\n"
      ]
    },
    {
      "cell_type": "code",
      "execution_count": null,
      "metadata": {
        "id": "POiDB_xlyDY1"
      },
      "outputs": [],
      "source": [
        "Ravdess=\"/content/drive/MyDrive/archive/audio_speech_actors_01-24/\"\n",
        "Tess=\"/content/drive/MyDrive/TESS Toronto emotional speech set data/\""
      ]
    },
    {
      "cell_type": "code",
      "execution_count": null,
      "metadata": {
        "id": "h65iWcPlqhg7"
      },
      "outputs": [],
      "source": [
        "ravdess_directory_list = os.listdir(Ravdess)\n",
        "\n",
        "file_emotion = []#감정 종류\n",
        "file_path = []#파일 경로\n",
        "for dir in ravdess_directory_list:\n",
        "  actor = os.listdir(Ravdess + dir)\n",
        "  for file in actor:#각 성우에 대한 데이터 가져옴\n",
        "    part=file.split('.')[0]#각 파일이름 에서 데이터유형 가져옴\n",
        "    part=part.split('-')#'-'로 나눔\n",
        "    file_emotion.append(int(part[2]))# 감정 구분\n",
        "    file_path.append(Ravdess+dir+'/'+file)\n",
        "\n",
        "emotion_df=pd.DataFrame(file_emotion,columns=['Emotions'])\n",
        "path_df=pd.DataFrame(file_path,columns=['Path'])\n",
        "Ravdess_df=pd.concat([emotion_df,path_df],axis=1)\n",
        "\n",
        "Ravdess_df.Emotions.replace({1:'neutral',2:'calm',3:'happy',4:'sad',5:'angry',6:'fear',7:'disgust',8:'surprise'},inplace=True)\n",
        "#숫자로 표현된 감정을 글자로 변환"
      ]
    },
    {
      "cell_type": "markdown",
      "metadata": {
        "id": "X3xQk3nmdHKI"
      },
      "source": [
        "tess dataset\n"
      ]
    },
    {
      "cell_type": "code",
      "execution_count": null,
      "metadata": {
        "id": "d5ig6bRAdGrw"
      },
      "outputs": [],
      "source": [
        "tess_directory_list = os.listdir(Tess)\n",
        "\n",
        "file_emotion = []\n",
        "file_path = []\n",
        "\n",
        "for dir in tess_directory_list:\n",
        "    directories = os.listdir(Tess + dir)\n",
        "    for file in directories:\n",
        "        part = file.split('.')[0]\n",
        "        part = part.split('_')[2]\n",
        "        if part=='ps':\n",
        "            file_emotion.append('surprise')\n",
        "        else:\n",
        "            file_emotion.append(part)\n",
        "        file_path.append(Tess + dir + '/' + file)\n",
        "\n",
        "# dataframe for emotion of files\n",
        "emotion_df = pd.DataFrame(file_emotion, columns=['Emotions'])\n",
        "\n",
        "# dataframe for path of files.\n",
        "path_df = pd.DataFrame(file_path, columns=['Path'])\n",
        "Tess_df = pd.concat([emotion_df, path_df], axis=1)"
      ]
    },
    {
      "cell_type": "code",
      "execution_count": null,
      "metadata": {
        "id": "ljxNbkz7dKhQ"
      },
      "outputs": [],
      "source": [
        "data_path=pd.concat([Ravdess_df,Tess_df],axis=0)#ravdess에 대한 데이터 경로 지정\n",
        "data_path.to_csv(\"data_path.csv\",index=False)"
      ]
    },
    {
      "cell_type": "markdown",
      "metadata": {
        "id": "iYKD4Rc6X5L1"
      },
      "source": [
        "데이터 변형"
      ]
    },
    {
      "cell_type": "code",
      "execution_count": null,
      "metadata": {
        "id": "wKrVtbShu5mw"
      },
      "outputs": [],
      "source": [
        "def noise(data): # 노이즈 추가\n",
        "  noise_amp=0.35*np.random.uniform()*np.amax(data)\n",
        "  data=data+noise_amp*np.random.normal(size=data.shape[0])\n",
        "  return data\n",
        "\n",
        "def stretch(data,rate=0.8): #샘플의 길이 변형\n",
        "  return librosa.effects.time_stretch(data,rate=rate)\n",
        "\n",
        "def shift(data): #샘플의 시간이동\n",
        "  shift_range=int(np.random.uniform(low=-5,high=5)*1000)\n",
        "  return np.roll(data,shift_range)\n",
        "\n",
        "def pitch(data,smpling_rate,pitch_factor=0.7): #목소리 메인 주파수 변형\n",
        "  return librosa.effects.pitch_shift(data,sr=sampling_rate,n_steps=pitch_factor)\n",
        "\n",
        "path=np.array(data_path.Path)[1]\n",
        "data,sample_rate=librosa.load(path)"
      ]
    },
    {
      "cell_type": "markdown",
      "metadata": {
        "id": "84TpXDaKw4UG"
      },
      "source": [
        "특징 추출\n"
      ]
    },
    {
      "cell_type": "code",
      "execution_count": null,
      "metadata": {
        "id": "x_dt0I2iw6KG"
      },
      "outputs": [],
      "source": [
        "def extract_features(data):\n",
        "  result=np.array([])\n",
        "\n",
        "  #Zero crossing rate\n",
        "  zcr=np.mean(librosa.feature.zero_crossing_rate(y=data).T,axis=0)\n",
        "  result=np.hstack((result,zcr))\n",
        "\n",
        "  #단시간 푸리에 변환\n",
        "  stft=np.abs(librosa.stft(data))\n",
        "  chroma_stft=np.mean(librosa.feature.chroma_stft(S=stft,sr=sample_rate).T,axis=0)\n",
        "  result=np.hstack((result,chroma_stft))\n",
        "\n",
        "  #실효값\n",
        "  rms=np.mean(librosa.feature.rms(y=data).T,axis=0)\n",
        "  result=np.hstack((result,rms))\n",
        "\n",
        "  #멜 필터를 적용한 스펙트럼 값\n",
        "  mfcc=np.mean(librosa.feature.rms(y=data).T,axis=0)\n",
        "  result=np.hstack((result,mfcc))\n",
        "\n",
        "  #멜 스텍트럼\n",
        "  mel=np.mean(librosa.feature.melspectrogram(y=data,sr=sample_rate).T,axis=0)\n",
        "  result=np.hstack((result,mel))\n",
        "\n",
        "  return result\n",
        "\n",
        "\n",
        "def get_features(path):\n",
        "  data,sample_rate=librosa.load(path,duration=2.5,offset=0.6)\n",
        "\n",
        "  res1=extract_features(data)\n",
        "  result=np.array(res1)\n",
        "\n",
        "  noise_data=noise(data)\n",
        "  res2=extract_features(noise_data)\n",
        "\n",
        "  new_data=stretch(data)\n",
        "  data_stretch_pitch=pitch(new_data,sample_rate)\n",
        "  res3=extract_features(data_stretch_pitch)\n",
        "  result=np.vstack((result,res3))\n",
        "\n",
        "  return result"
      ]
    },
    {
      "cell_type": "code",
      "execution_count": null,
      "metadata": {
        "id": "2M4UTbh1OfGy",
        "colab": {
          "base_uri": "https://localhost:8080/",
          "height": 261
        },
        "outputId": "9a702d8d-9a25-40d8-d67e-31b159786d4a"
      },
      "outputs": [
        {
          "output_type": "error",
          "ename": "NameError",
          "evalue": "ignored",
          "traceback": [
            "\u001b[0;31m---------------------------------------------------------------------------\u001b[0m",
            "\u001b[0;31mNameError\u001b[0m                                 Traceback (most recent call last)",
            "\u001b[0;32m<ipython-input-9-536466930459>\u001b[0m in \u001b[0;36m<cell line: 1>\u001b[0;34m()\u001b[0m\n\u001b[0;32m----> 1\u001b[0;31m \u001b[0mfiltered_row\u001b[0m \u001b[0;34m=\u001b[0m \u001b[0mdata_path\u001b[0m\u001b[0;34m[\u001b[0m\u001b[0mdata_path\u001b[0m\u001b[0;34m[\u001b[0m\u001b[0;34m'Emotions'\u001b[0m\u001b[0;34m]\u001b[0m \u001b[0;34m==\u001b[0m \u001b[0memotion\u001b[0m\u001b[0;34m]\u001b[0m\u001b[0;34m\u001b[0m\u001b[0;34m\u001b[0m\u001b[0m\n\u001b[0m\u001b[1;32m      2\u001b[0m \u001b[0;32mif\u001b[0m \u001b[0;32mnot\u001b[0m \u001b[0mfiltered_row\u001b[0m\u001b[0;34m.\u001b[0m\u001b[0mempty\u001b[0m\u001b[0;34m:\u001b[0m\u001b[0;34m\u001b[0m\u001b[0;34m\u001b[0m\u001b[0m\n\u001b[1;32m      3\u001b[0m     \u001b[0mpath\u001b[0m \u001b[0;34m=\u001b[0m \u001b[0mfiltered_row\u001b[0m\u001b[0;34m.\u001b[0m\u001b[0miloc\u001b[0m\u001b[0;34m[\u001b[0m\u001b[0;36m0\u001b[0m\u001b[0;34m]\u001b[0m\u001b[0;34m[\u001b[0m\u001b[0;34m'Path'\u001b[0m\u001b[0;34m]\u001b[0m\u001b[0;34m\u001b[0m\u001b[0;34m\u001b[0m\u001b[0m\n\u001b[1;32m      4\u001b[0m \u001b[0mdata\u001b[0m\u001b[0;34m,\u001b[0m \u001b[0msampling_rate\u001b[0m \u001b[0;34m=\u001b[0m \u001b[0mlibrosa\u001b[0m\u001b[0;34m.\u001b[0m\u001b[0mload\u001b[0m\u001b[0;34m(\u001b[0m\u001b[0mpath\u001b[0m\u001b[0;34m)\u001b[0m\u001b[0;34m\u001b[0m\u001b[0;34m\u001b[0m\u001b[0m\n\u001b[1;32m      5\u001b[0m \u001b[0mX\u001b[0m\u001b[0;34m,\u001b[0m\u001b[0mY\u001b[0m\u001b[0;34m=\u001b[0m\u001b[0;34m[\u001b[0m\u001b[0;34m]\u001b[0m\u001b[0;34m,\u001b[0m\u001b[0;34m[\u001b[0m\u001b[0;34m]\u001b[0m\u001b[0;34m\u001b[0m\u001b[0;34m\u001b[0m\u001b[0m\n",
            "\u001b[0;31mNameError\u001b[0m: name 'emotion' is not defined"
          ]
        }
      ],
      "source": [
        "filtered_row = data_path[data_path['Emotions'] == emotion]\n",
        "if not filtered_row.empty:\n",
        "    path = filtered_row.iloc[0]['Path']\n",
        "data, sampling_rate = librosa.load(path)\n",
        "X,Y=[],[]\n",
        "for path,emotion in zip(data_path.Path,data_path.Emotions):\n",
        "  feature=get_features(path)\n",
        "  for ele in feature:\n",
        "    X.append(ele)\n",
        "    Y.append(emotion)"
      ]
    },
    {
      "cell_type": "code",
      "execution_count": null,
      "metadata": {
        "id": "lE_o9nmWQL4u"
      },
      "outputs": [],
      "source": [
        "len(X),len(Y),data_path.Path.shape"
      ]
    },
    {
      "cell_type": "code",
      "execution_count": null,
      "metadata": {
        "id": "prtniW53QSue"
      },
      "outputs": [],
      "source": [
        "Features=pd.DataFrame(X)\n",
        "Features['labels']=Y\n",
        "Features.to_csv('features.cs',index=False)"
      ]
    },
    {
      "cell_type": "code",
      "execution_count": null,
      "metadata": {
        "id": "Tdyq-p6ZQfy-"
      },
      "outputs": [],
      "source": [
        "X=Features.iloc[:,:-1].values\n",
        "Y=Features['labels'].values"
      ]
    },
    {
      "cell_type": "code",
      "execution_count": null,
      "metadata": {
        "id": "Si2xpVcyQoRw"
      },
      "outputs": [],
      "source": [
        "encoder=OneHotEncoder()\n",
        "Y=encoder.fit_transform(np.array(Y).reshape(-1,1)).toarray()"
      ]
    },
    {
      "cell_type": "code",
      "execution_count": null,
      "metadata": {
        "id": "hD3D6YhkRBRH"
      },
      "outputs": [],
      "source": [
        "x_train,x_test,y_train,y_test=train_test_split(X,Y,random_state=0,shuffle=True)\n",
        "x_train.shape, y_train.shape,x_test.shape,y_test.shape"
      ]
    },
    {
      "cell_type": "code",
      "execution_count": null,
      "metadata": {
        "id": "sVwsH_4cRNMl"
      },
      "outputs": [],
      "source": [
        "scalar=StandardScaler()\n",
        "x_train=scalar.fit_transform(x_train)\n",
        "x_test=scalar.transform(x_test)\n",
        "x_train.shape, y_train.shape,x_test.shape,y_test.shape"
      ]
    },
    {
      "cell_type": "code",
      "execution_count": null,
      "metadata": {
        "id": "CTk_C0p-RfAc"
      },
      "outputs": [],
      "source": [
        "x_train=np.expand_dims(x_train,axis=2)\n",
        "x_test=np.expand_dims(x_test,axis=2)\n",
        "x_train.shape, y_train.shape,x_test.shape,y_test.shape"
      ]
    },
    {
      "cell_type": "markdown",
      "metadata": {
        "id": "0_8-6GwHRqCe"
      },
      "source": [
        "기계학습 모델링"
      ]
    },
    {
      "cell_type": "code",
      "execution_count": null,
      "metadata": {
        "id": "ZPB-sMamRiVh"
      },
      "outputs": [],
      "source": [
        "model=Sequential()\n",
        "\n",
        "model.add(Conv1D(512,kernel_size=5, strides=1,padding='same', activation='relu',input_shape=(x_train.shape[1],1)))\n",
        "model.add(MaxPooling1D(pool_size=5,strides=2,padding='same'))\n",
        "\n",
        "model.add(Conv1D(512,kernel_size=5,strides=1,padding='same',activation='relu'))\n",
        "model.add(MaxPooling1D(pool_size=5,strides=2,padding='same'))\n",
        "model.add(Dropout(0.2))\n",
        "\n",
        "model.add(Conv1D(256,kernel_size=5,strides=1,padding='same',activation='relu'))\n",
        "model.add(MaxPooling1D(pool_size=5,strides=2,padding='same'))\n",
        "model.add(Dropout(0.2))\n",
        "\n",
        "model.add(Conv1D(128,kernel_size=3,strides=1,padding='same',activation='relu'))\n",
        "model.add(MaxPooling1D(pool_size=3,strides=2,padding='same'))\n",
        "model.add(Dropout(0.2))\n",
        "\n",
        "model.add(Flatten())\n",
        "model.add(Dense(512, activation='relu'))\n",
        "model.add(BatchNormalization())\n",
        "model.add(Dense(units=8, activation='softmax'))\n",
        "\n",
        "model.compile(optimizer = 'adam' , loss = 'categorical_crossentropy' , metrics = ['accuracy'])\n",
        "\n",
        "model.summary()"
      ]
    },
    {
      "cell_type": "code",
      "execution_count": null,
      "metadata": {
        "id": "zrv0kZtfS6Vd"
      },
      "outputs": [],
      "source": [
        "rlrp=ReduceLROnPlateau(\n",
        "    monitor='loss',\n",
        "    factor=0.4,\n",
        "    verbose=0,\n",
        "    patience=2,\n",
        "    min_lr=0.0000001)\n",
        "history=model.fit(x_train,y_train,batch_size=500,\n",
        "                  epochs=30,\n",
        "                  validation_data=(x_test,y_test),\n",
        "                  callbacks=[rlrp])"
      ]
    },
    {
      "cell_type": "code",
      "execution_count": null,
      "metadata": {
        "id": "Tdq_jBu7TUwS"
      },
      "outputs": [],
      "source": [
        "print(\"Accuracy of our model on test data : \" , model.evaluate(x_test,y_test)[1]*100 , \"%\")\n",
        "\n",
        "epochs = [i for i in range(30)]\n",
        "fig , ax = plt.subplots(1,2)\n",
        "train_acc = history.history['accuracy']\n",
        "train_loss = history.history['loss']\n",
        "test_acc = history.history['val_accuracy']\n",
        "test_loss = history.history['val_loss']\n",
        "\n",
        "fig.set_size_inches(20,6)\n",
        "ax[0].plot(epochs , train_loss , label = 'Training Loss')\n",
        "ax[0].plot(epochs , test_loss , label = 'Testing Loss')\n",
        "ax[0].set_title('Training & Testing Loss')\n",
        "ax[0].legend()\n",
        "ax[0].set_xlabel(\"Epochs\")\n",
        "\n",
        "ax[1].plot(epochs , train_acc , label = 'Training Accuracy')\n",
        "ax[1].plot(epochs , test_acc , label = 'Testing Accuracy')\n",
        "ax[1].set_title('Training & Testing Accuracy')\n",
        "ax[1].legend()\n",
        "ax[1].set_xlabel(\"Epochs\")\n",
        "plt.show()"
      ]
    },
    {
      "cell_type": "code",
      "execution_count": null,
      "metadata": {
        "id": "DtCMobNBTYQB"
      },
      "outputs": [],
      "source": [
        "pred_test = model.predict(x_test)\n",
        "y_pred = encoder.inverse_transform(pred_test)\n",
        "\n",
        "y_test = encoder.inverse_transform(y_test)"
      ]
    },
    {
      "cell_type": "code",
      "execution_count": null,
      "metadata": {
        "id": "mRVTWFJKTbDq"
      },
      "outputs": [],
      "source": [
        "df = pd.DataFrame(columns=['Predicted Labels', 'Actual Labels'])\n",
        "df['Predicted Labels'] = y_pred.flatten()\n",
        "df['Actual Labels'] = y_test.flatten()\n",
        "\n",
        "df.head(10)"
      ]
    },
    {
      "cell_type": "code",
      "execution_count": null,
      "metadata": {
        "id": "nnhDnNK4TdHr"
      },
      "outputs": [],
      "source": [
        "cm = confusion_matrix(y_test, y_pred)\n",
        "plt.figure(figsize = (12, 10))\n",
        "cm = pd.DataFrame(cm , index = [i for i in encoder.categories_] , columns = [i for i in encoder.categories_])\n",
        "sns.heatmap(cm, linecolor='white', cmap='Blues', linewidth=1, annot=True, fmt='')\n",
        "plt.title('Confusion Matrix', size=20)\n",
        "plt.xlabel('Predicted Labels', size=14)\n",
        "plt.ylabel('Actual Labels', size=14)\n",
        "plt.show()"
      ]
    },
    {
      "cell_type": "code",
      "execution_count": null,
      "metadata": {
        "id": "z_Zzh5RTTfDi"
      },
      "outputs": [],
      "source": [
        "print(classification_report(y_test, y_pred))"
      ]
    }
  ],
  "metadata": {
    "accelerator": "GPU",
    "colab": {
      "provenance": [],
      "mount_file_id": "13Qin_gNggkUdcJAEy-2zomUtS3XWWdCs",
      "authorship_tag": "ABX9TyPf//fvnV1w9UovFnAE9F+/",
      "include_colab_link": true
    },
    "kernelspec": {
      "display_name": "Python 3",
      "name": "python3"
    },
    "language_info": {
      "name": "python"
    }
  },
  "nbformat": 4,
  "nbformat_minor": 0
}